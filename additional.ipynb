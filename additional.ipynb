{
 "cells": [
  {
   "cell_type": "code",
   "execution_count": 4,
   "metadata": {},
   "outputs": [],
   "source": [
    "# imports\n",
    "import plotly.express as px\n",
    "import plotly.graph_objects as go"
   ]
  },
  {
   "cell_type": "code",
   "execution_count": 5,
   "metadata": {},
   "outputs": [
    {
     "data": {
      "text/plain": [
       "pandas.core.frame.DataFrame"
      ]
     },
     "execution_count": 5,
     "metadata": {},
     "output_type": "execute_result"
    }
   ],
   "source": [
    "# get data\n",
    "data = px.data.stocks()\n",
    "type(data)"
   ]
  },
  {
   "cell_type": "code",
   "execution_count": 6,
   "metadata": {},
   "outputs": [
    {
     "data": {
      "text/html": [
       "<div>\n",
       "<style scoped>\n",
       "    .dataframe tbody tr th:only-of-type {\n",
       "        vertical-align: middle;\n",
       "    }\n",
       "\n",
       "    .dataframe tbody tr th {\n",
       "        vertical-align: top;\n",
       "    }\n",
       "\n",
       "    .dataframe thead th {\n",
       "        text-align: right;\n",
       "    }\n",
       "</style>\n",
       "<table border=\"1\" class=\"dataframe\">\n",
       "  <thead>\n",
       "    <tr style=\"text-align: right;\">\n",
       "      <th></th>\n",
       "      <th>date</th>\n",
       "      <th>GOOG</th>\n",
       "      <th>AAPL</th>\n",
       "      <th>AMZN</th>\n",
       "      <th>FB</th>\n",
       "      <th>NFLX</th>\n",
       "      <th>MSFT</th>\n",
       "    </tr>\n",
       "  </thead>\n",
       "  <tbody>\n",
       "    <tr>\n",
       "      <th>0</th>\n",
       "      <td>2018-01-01</td>\n",
       "      <td>1.000000</td>\n",
       "      <td>1.000000</td>\n",
       "      <td>1.000000</td>\n",
       "      <td>1.000000</td>\n",
       "      <td>1.000000</td>\n",
       "      <td>1.000000</td>\n",
       "    </tr>\n",
       "    <tr>\n",
       "      <th>1</th>\n",
       "      <td>2018-01-08</td>\n",
       "      <td>1.018172</td>\n",
       "      <td>1.011943</td>\n",
       "      <td>1.061881</td>\n",
       "      <td>0.959968</td>\n",
       "      <td>1.053526</td>\n",
       "      <td>1.015988</td>\n",
       "    </tr>\n",
       "    <tr>\n",
       "      <th>2</th>\n",
       "      <td>2018-01-15</td>\n",
       "      <td>1.032008</td>\n",
       "      <td>1.019771</td>\n",
       "      <td>1.053240</td>\n",
       "      <td>0.970243</td>\n",
       "      <td>1.049860</td>\n",
       "      <td>1.020524</td>\n",
       "    </tr>\n",
       "    <tr>\n",
       "      <th>3</th>\n",
       "      <td>2018-01-22</td>\n",
       "      <td>1.066783</td>\n",
       "      <td>0.980057</td>\n",
       "      <td>1.140676</td>\n",
       "      <td>1.016858</td>\n",
       "      <td>1.307681</td>\n",
       "      <td>1.066561</td>\n",
       "    </tr>\n",
       "    <tr>\n",
       "      <th>4</th>\n",
       "      <td>2018-01-29</td>\n",
       "      <td>1.008773</td>\n",
       "      <td>0.917143</td>\n",
       "      <td>1.163374</td>\n",
       "      <td>1.018357</td>\n",
       "      <td>1.273537</td>\n",
       "      <td>1.040708</td>\n",
       "    </tr>\n",
       "  </tbody>\n",
       "</table>\n",
       "</div>"
      ],
      "text/plain": [
       "         date      GOOG      AAPL      AMZN        FB      NFLX      MSFT\n",
       "0  2018-01-01  1.000000  1.000000  1.000000  1.000000  1.000000  1.000000\n",
       "1  2018-01-08  1.018172  1.011943  1.061881  0.959968  1.053526  1.015988\n",
       "2  2018-01-15  1.032008  1.019771  1.053240  0.970243  1.049860  1.020524\n",
       "3  2018-01-22  1.066783  0.980057  1.140676  1.016858  1.307681  1.066561\n",
       "4  2018-01-29  1.008773  0.917143  1.163374  1.018357  1.273537  1.040708"
      ]
     },
     "execution_count": 6,
     "metadata": {},
     "output_type": "execute_result"
    }
   ],
   "source": [
    "data.head()"
   ]
  },
  {
   "cell_type": "code",
   "execution_count": 10,
   "metadata": {},
   "outputs": [
    {
     "ename": "AttributeError",
     "evalue": "'Figure' object has no attribute 'update_yxes'",
     "output_type": "error",
     "traceback": [
      "\u001b[0;31m---------------------------------------------------------------------------\u001b[0m",
      "\u001b[0;31mAttributeError\u001b[0m                            Traceback (most recent call last)",
      "\u001b[1;32m/Users/joshua/Documents/gitProjects/Ploty-tutorials/additional.ipynb Cell 4\u001b[0m in \u001b[0;36m<cell line: 31>\u001b[0;34m()\u001b[0m\n\u001b[1;32m     <a href='vscode-notebook-cell:/Users/joshua/Documents/gitProjects/Ploty-tutorials/additional.ipynb#W3sZmlsZQ%3D%3D?line=14'>15</a>\u001b[0m data_fig\u001b[39m.\u001b[39mupdate_layout(\n\u001b[1;32m     <a href='vscode-notebook-cell:/Users/joshua/Documents/gitProjects/Ploty-tutorials/additional.ipynb#W3sZmlsZQ%3D%3D?line=15'>16</a>\u001b[0m     title \u001b[39m=\u001b[39m \u001b[39m\"\u001b[39m\u001b[39mGoogle stocks\u001b[39m\u001b[39m\"\u001b[39m,\n\u001b[1;32m     <a href='vscode-notebook-cell:/Users/joshua/Documents/gitProjects/Ploty-tutorials/additional.ipynb#W3sZmlsZQ%3D%3D?line=16'>17</a>\u001b[0m     xaxis_title \u001b[39m=\u001b[39m \u001b[39m\"\u001b[39m\u001b[39mDate\u001b[39m\u001b[39m\"\u001b[39m,\n\u001b[0;32m   (...)\u001b[0m\n\u001b[1;32m     <a href='vscode-notebook-cell:/Users/joshua/Documents/gitProjects/Ploty-tutorials/additional.ipynb#W3sZmlsZQ%3D%3D?line=26'>27</a>\u001b[0m     hovermode \u001b[39m=\u001b[39m \u001b[39m\"\u001b[39m\u001b[39mx unified\u001b[39m\u001b[39m\"\u001b[39m\n\u001b[1;32m     <a href='vscode-notebook-cell:/Users/joshua/Documents/gitProjects/Ploty-tutorials/additional.ipynb#W3sZmlsZQ%3D%3D?line=27'>28</a>\u001b[0m )\n\u001b[1;32m     <a href='vscode-notebook-cell:/Users/joshua/Documents/gitProjects/Ploty-tutorials/additional.ipynb#W3sZmlsZQ%3D%3D?line=29'>30</a>\u001b[0m data_fig\u001b[39m.\u001b[39mupdate_xaxes(showgrid\u001b[39m=\u001b[39m\u001b[39mFalse\u001b[39;00m)\n\u001b[0;32m---> <a href='vscode-notebook-cell:/Users/joshua/Documents/gitProjects/Ploty-tutorials/additional.ipynb#W3sZmlsZQ%3D%3D?line=30'>31</a>\u001b[0m data_fig\u001b[39m.\u001b[39;49mupdate_yxes(showgrid\u001b[39m=\u001b[39m\u001b[39mFalse\u001b[39;00m)\n",
      "\u001b[0;31mAttributeError\u001b[0m: 'Figure' object has no attribute 'update_yxes'"
     ]
    }
   ],
   "source": [
    "x = data['date']\n",
    "y = data['GOOG']\n",
    "\n",
    "data_fig = go.Figure()\n",
    "data_fig.add_trace(go.Scatter(x=x, y=y,\n",
    "                    fill = 'tozeroy',\n",
    "                    fillcolor = 'rgba(232,62,126,1)',\n",
    "                    mode = 'lines',\n",
    "                    stackgroup = 'one',\n",
    "                    hoveron = 'points+fills',\n",
    "\n",
    "                    )\n",
    ")\n",
    "\n",
    "data_fig.update_layout(\n",
    "    title = \"Google stocks\",\n",
    "    xaxis_title = \"Date\",\n",
    "    yaxis_title = \"Google Stock Prices Overtime\",\n",
    "    plot_bgcolor = 'rgb(19,22,51)',\n",
    "    paper_bgcolor = 'rgb(19,22,51)',\n",
    "    font_family = 'Multi',\n",
    "    font_color = 'white',\n",
    "    font_size = 14,\n",
    "    title_font_family = \"Multi\",\n",
    "    title_font_color = \"white\",\n",
    "    title_font_size = 30,\n",
    "    hovermode = \"x unified\"\n",
    ")\n",
    "\n",
    "data_fig.update_xaxes(showgrid=False)\n",
    "data_fig.update_yaxes(showgrid=False)"
   ]
  },
  {
   "cell_type": "code",
   "execution_count": null,
   "metadata": {},
   "outputs": [],
   "source": []
  }
 ],
 "metadata": {
  "kernelspec": {
   "display_name": "Python 3.9.12 ('base')",
   "language": "python",
   "name": "python3"
  },
  "language_info": {
   "codemirror_mode": {
    "name": "ipython",
    "version": 3
   },
   "file_extension": ".py",
   "mimetype": "text/x-python",
   "name": "python",
   "nbconvert_exporter": "python",
   "pygments_lexer": "ipython3",
   "version": "3.9.12"
  },
  "orig_nbformat": 4,
  "vscode": {
   "interpreter": {
    "hash": "b2584329f10c13930cf30ec3e6bcf5fe94d30a715025875437cbb1c72ac2791e"
   }
  }
 },
 "nbformat": 4,
 "nbformat_minor": 2
}
